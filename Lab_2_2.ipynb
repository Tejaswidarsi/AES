{
  "nbformat": 4,
  "nbformat_minor": 0,
  "metadata": {
    "colab": {
      "provenance": [],
      "authorship_tag": "ABX9TyPwhUlMdmChmVaymLPmM5OP",
      "include_colab_link": true
    },
    "kernelspec": {
      "name": "python3",
      "display_name": "Python 3"
    },
    "language_info": {
      "name": "python"
    }
  },
  "cells": [
    {
      "cell_type": "markdown",
      "metadata": {
        "id": "view-in-github",
        "colab_type": "text"
      },
      "source": [
        "<a href=\"https://colab.research.google.com/github/Tejaswidarsi/AES/blob/main/Lab_2_2.ipynb\" target=\"_parent\"><img src=\"https://colab.research.google.com/assets/colab-badge.svg\" alt=\"Open In Colab\"/></a>"
      ]
    },
    {
      "cell_type": "code",
      "execution_count": 1,
      "metadata": {
        "colab": {
          "base_uri": "https://localhost:8080/"
        },
        "id": "U-uZuY5pMWB3",
        "outputId": "d6eac75c-561a-4c52-e034-ee1f888c6c3f"
      },
      "outputs": [
        {
          "output_type": "stream",
          "name": "stdout",
          "text": [
            "Collecting pycryptodome\n",
            "  Downloading pycryptodome-3.21.0-cp36-abi3-manylinux_2_17_x86_64.manylinux2014_x86_64.whl.metadata (3.4 kB)\n",
            "Downloading pycryptodome-3.21.0-cp36-abi3-manylinux_2_17_x86_64.manylinux2014_x86_64.whl (2.3 MB)\n",
            "\u001b[?25l   \u001b[90m━━━━━━━━━━━━━━━━━━━━━━━━━━━━━━━━━━━━━━━━\u001b[0m \u001b[32m0.0/2.3 MB\u001b[0m \u001b[31m?\u001b[0m eta \u001b[36m-:--:--\u001b[0m\r\u001b[2K   \u001b[91m━━━\u001b[0m\u001b[90m╺\u001b[0m\u001b[90m━━━━━━━━━━━━━━━━━━━━━━━━━━━━━━━━━━━━\u001b[0m \u001b[32m0.2/2.3 MB\u001b[0m \u001b[31m5.5 MB/s\u001b[0m eta \u001b[36m0:00:01\u001b[0m\r\u001b[2K   \u001b[91m━━━━━━━━━━━━━━━━━━━━━━━━━━━━━━━\u001b[0m\u001b[90m╺\u001b[0m\u001b[90m━━━━━━━━\u001b[0m \u001b[32m1.8/2.3 MB\u001b[0m \u001b[31m24.3 MB/s\u001b[0m eta \u001b[36m0:00:01\u001b[0m\r\u001b[2K   \u001b[90m━━━━━━━━━━━━━━━━━━━━━━━━━━━━━━━━━━━━━━━━\u001b[0m \u001b[32m2.3/2.3 MB\u001b[0m \u001b[31m22.0 MB/s\u001b[0m eta \u001b[36m0:00:00\u001b[0m\n",
            "\u001b[?25hInstalling collected packages: pycryptodome\n",
            "Successfully installed pycryptodome-3.21.0\n"
          ]
        }
      ],
      "source": [
        "pip install pycryptodome"
      ]
    },
    {
      "cell_type": "markdown",
      "source": [
        "#### 1) Implement AES using the available library to encrypt and decrypt a given plain text file.\n"
      ],
      "metadata": {
        "id": "uIDxmJBcMrkg"
      }
    },
    {
      "cell_type": "code",
      "source": [
        "from Crypto.Cipher import AES\n",
        "from Crypto.Util.Padding import pad, unpad\n",
        "import base64\n",
        "import os\n",
        "\n",
        "\n",
        "KEY = os.urandom(16)  # Replace with a fixed key for actual use\n",
        "\n",
        "\n",
        "\n",
        "def encrypt_message(message):\n",
        "    cipher = AES.new(KEY, AES.MODE_CBC, iv=KEY)\n",
        "    encrypted_bytes = cipher.encrypt(pad(message.encode(), AES.block_size))\n",
        "    return base64.b64encode( encrypted_bytes).decode()\n",
        "\n",
        "def decrypt_message(encrypted_message):\n",
        "    cipher = AES.new(KEY, AES.MODE_CBC, iv=KEY)\n",
        "    decrypted_bytes = unpad(cipher.decrypt(base64.b64decode(encrypted_message)), AES.block_size)\n",
        "    return decrypted_bytes.decode()\n"
      ],
      "metadata": {
        "id": "Ou3XG5icNKWN"
      },
      "execution_count": 21,
      "outputs": []
    },
    {
      "cell_type": "code",
      "source": [
        "def send():\n",
        "    message = open(\"/content/shift.java\",'r').read()\n",
        "    encrypted_message = encrypt_message(message)\n",
        "    print(f\"Client (Encrypted): {encrypted_message}\")\n",
        "    return encrypted_message\n",
        "\n",
        "def receive(msg):\n",
        "    decrypted_message = decrypt_message(msg)\n",
        "    print(f\"Server (Decrypted): {decrypted_message}\")\n",
        "    return decrypted_message\n",
        "\n",
        "\n",
        "\n",
        "\n",
        "encrypted_msg = send()\n",
        "receive(encrypted_msg)\n",
        "\n"
      ],
      "metadata": {
        "colab": {
          "base_uri": "https://localhost:8080/",
          "height": 264
        },
        "id": "-hGx0qr6NP_W",
        "outputId": "87e2d8c2-361f-4e80-9532-c6f62e118b19"
      },
      "execution_count": 7,
      "outputs": [
        {
          "output_type": "stream",
          "name": "stdout",
          "text": [
            "Client (Encrypted): HNq+GnFATHXRrtDSVwVY9T1JPAfeRXqLheZ8SlXq2fQ7RlHXqk1o53vcViJApUqyiIuHITvP86s2h2aO6fniH8RGPKBsfDHyHGjgG+p25DeBXTT7Y6YnW3EqpyI83Tpb9oaiRldHDoXTVTjGlVAiezRVQ0Xew5WeMDdgaVc+vsJMa14cYJVj2SY/vJqnZzgEHVnrO0whakrcHb5owoReX/ZYYyDe4Qf2evrhJ0P6rGW4Qh4wzZR5HVav81PlNTe64qvO6bUOqWZjVtD9JkiaV+iR7BEEj1AaBEWHQDFkrLn325U8DteN8TJMw8e6d2Gp2l4tx6H9nNuRrgcpda5nQJgHU1LTj0YAVXFWKdythcvBCDmDYaHuFar1vVzVMKY8\n",
            "Server (Decrypted): public class shift {\n",
            "    public static void main(String[] args) {\n",
            "        int num = 8;\n",
            "        System.out.println(\"Left Shift: \" + (num << 1));\n",
            "        System.out.println(\"Right Shift: \" + (num >> 1));\n",
            "        System.out.println(\"Unsigned Right Shift: \" + (num >>> 1));\n",
            "    }\n",
            "}\n",
            "\n"
          ]
        },
        {
          "output_type": "execute_result",
          "data": {
            "text/plain": [
              "'public class shift {\\n    public static void main(String[] args) {\\n        int num = 8;\\n        System.out.println(\"Left Shift: \" + (num << 1));\\n        System.out.println(\"Right Shift: \" + (num >> 1));\\n        System.out.println(\"Unsigned Right Shift: \" + (num >>> 1));\\n    }\\n}\\n'"
            ],
            "application/vnd.google.colaboratory.intrinsic+json": {
              "type": "string"
            }
          },
          "metadata": {},
          "execution_count": 7
        }
      ]
    },
    {
      "cell_type": "markdown",
      "source": [
        "#### 2) Extend the program (2) to encrypt and decrypt a given file."
      ],
      "metadata": {
        "id": "KnFhPXHUXnSl"
      }
    },
    {
      "cell_type": "code",
      "source": [
        "def encrypt_message(message):\n",
        "    cipher = AES.new(KEY, AES.MODE_CBC, iv=KEY)  # Using key as IV (Not recommended for real applications)\n",
        "    encrypted_bytes = cipher.encrypt(pad(message, AES.block_size))  # No need to encode, message is already bytes\n",
        "    return base64.b64encode(encrypted_bytes).decode()\n",
        "\n",
        "def decrypt_message(encrypted_message):\n",
        "    cipher = AES.new(KEY, AES.MODE_CBC, iv=KEY)\n",
        "    decrypted_bytes = unpad(cipher.decrypt(base64.b64decode(encrypted_message)), AES.block_size)\n",
        "    return decrypted_bytes  # Return as bytes, no need to decode"
      ],
      "metadata": {
        "id": "zl53FecDXrIb"
      },
      "execution_count": 24,
      "outputs": []
    },
    {
      "cell_type": "code",
      "source": [
        "def send(image_path):\n",
        "    with open(image_path, 'rb') as f:\n",
        "        message = f.read()  # Read image data as bytes\n",
        "    encrypted_message = encrypt_message(message)\n",
        "    print(f\"Client (Encrypted): {encrypted_message[:50]}...\")  # Print only first 50 chars for readability\n",
        "    return encrypted_message\n",
        "\n",
        "def receive(msg):\n",
        "    decrypted_message = decrypt_message(msg)\n",
        "    print(f\"Server (Decrypted): {len(decrypted_message)} bytes received.\")  # Print size instead of raw data\n",
        "    return decrypted_message"
      ],
      "metadata": {
        "id": "DB59ZB8AX0E5"
      },
      "execution_count": 25,
      "outputs": []
    },
    {
      "cell_type": "code",
      "source": [
        "image_path = \"/content/Screenshot 2025-02-07 175816.png\"\n",
        "\n",
        "# Encrypt and send image\n",
        "encrypted_msg = send(image_path)\n",
        "\n",
        "# Receive and decrypt image\n",
        "decrypted_data = receive(encrypted_msg)\n",
        "\n",
        "# Save decrypted image\n",
        "decrypted_image_path = r\"D:\\decrypt.png\"\n",
        "with open(decrypted_image_path, \"wb\") as f:\n",
        "    f.write(decrypted_data)\n",
        "\n",
        "print(f\"Decrypted image saved at: {decrypted_image_path}\")\n",
        "print(\"Decrypted file size:\", os.path.getsize(decrypted_image_path))"
      ],
      "metadata": {
        "id": "eISlyo87YBhg",
        "outputId": "0255351d-0420-4376-f266-16b17e761612",
        "colab": {
          "base_uri": "https://localhost:8080/"
        }
      },
      "execution_count": 27,
      "outputs": [
        {
          "output_type": "stream",
          "name": "stdout",
          "text": [
            "Client (Encrypted): qL/+TOR4bREdW7NHEE3GYLail1Y+eV56GMazFqqVAFqn9cT/00...\n",
            "Server (Decrypted): 368258 bytes received.\n",
            "Decrypted image saved at: D:\\decrypt.png\n",
            "Decrypted file size: 368258\n"
          ]
        }
      ]
    }
  ]
}